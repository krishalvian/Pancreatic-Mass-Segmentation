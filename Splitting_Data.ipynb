{
  "nbformat": 4,
  "nbformat_minor": 0,
  "metadata": {
    "colab": {
      "provenance": [],
      "mount_file_id": "1N5gifVr7Ihe1Uq09ESjx3dAR6QNjUDzZ",
      "authorship_tag": "ABX9TyMiZF+JRLBLZg2ONFqYY2uJ",
      "include_colab_link": true
    },
    "kernelspec": {
      "name": "python3",
      "display_name": "Python 3"
    },
    "language_info": {
      "name": "python"
    }
  },
  "cells": [
    {
      "cell_type": "markdown",
      "metadata": {
        "id": "view-in-github",
        "colab_type": "text"
      },
      "source": [
        "<a href=\"https://colab.research.google.com/github/krishalvian/Pancreatic-Mass-Segmentation/blob/main/Splitting_Data.ipynb\" target=\"_parent\"><img src=\"https://colab.research.google.com/assets/colab-badge.svg\" alt=\"Open In Colab\"/></a>"
      ]
    },
    {
      "cell_type": "markdown",
      "source": [
        "# **Splitting Data**"
      ],
      "metadata": {
        "id": "Tebb0KEJGD9f"
      }
    },
    {
      "cell_type": "markdown",
      "source": [
        "Splitting data digunakan untuk memisahkan antara data *training* dan data *testing*."
      ],
      "metadata": {
        "id": "0szuehpbGMTU"
      }
    },
    {
      "cell_type": "markdown",
      "source": [
        "# **Import Data**"
      ],
      "metadata": {
        "id": "nDyHBrkdGk6l"
      }
    },
    {
      "cell_type": "markdown",
      "source": [
        "Menginstal library dan modul yang akan digunakan"
      ],
      "metadata": {
        "id": "e3YE64XQGs8u"
      }
    },
    {
      "cell_type": "code",
      "execution_count": 1,
      "metadata": {
        "id": "zAy84zDc0UEl"
      },
      "outputs": [],
      "source": [
        "!pip install -q split-folders"
      ]
    },
    {
      "cell_type": "markdown",
      "source": [
        "Menghubungkan Google Drive dengan Google Colab"
      ],
      "metadata": {
        "id": "hMGt5T89G_ib"
      }
    },
    {
      "cell_type": "code",
      "source": [
        "from google.colab import drive\n",
        "drive.mount('/content/drive')"
      ],
      "metadata": {
        "colab": {
          "base_uri": "https://localhost:8080/"
        },
        "id": "ft4KH5zDHOtj",
        "outputId": "de2182fa-e13c-4956-9f91-3c44987b994e"
      },
      "execution_count": 2,
      "outputs": [
        {
          "output_type": "stream",
          "name": "stdout",
          "text": [
            "Drive already mounted at /content/drive; to attempt to forcibly remount, call drive.mount(\"/content/drive\", force_remount=True).\n"
          ]
        }
      ]
    },
    {
      "cell_type": "markdown",
      "source": [
        "# **Import Data from Drive**"
      ],
      "metadata": {
        "id": "gEw4vc_7Hgh5"
      }
    },
    {
      "cell_type": "markdown",
      "source": [
        "Mengakses dataset dari Google Drive"
      ],
      "metadata": {
        "id": "ReSbE0fOHsfA"
      }
    },
    {
      "cell_type": "code",
      "source": [
        "dataset = \"/content/drive/MyDrive/Dataset/Raw\""
      ],
      "metadata": {
        "id": "ip3faBQtHwCF"
      },
      "execution_count": 3,
      "outputs": []
    },
    {
      "cell_type": "markdown",
      "source": [
        "Melakukan pembagian data dengan ratio 80% (training) dan 20% (testing)"
      ],
      "metadata": {
        "id": "wR3ec62qH16H"
      }
    },
    {
      "cell_type": "code",
      "source": [
        "#Import package split-folder\n",
        "import splitfolders\n",
        "\n",
        "#Membagi data\n",
        "\n",
        "splitfolders.ratio(dataset,\n",
        "                    output = \"/content/drive/MyDrive/Dataset/Data\",\n",
        "                    seed = 1337,\n",
        "                    ratio = (.8, .2),\n",
        "                    group_prefix = None, move = False)"
      ],
      "metadata": {
        "id": "ZQeMHaB9IBU9",
        "colab": {
          "base_uri": "https://localhost:8080/"
        },
        "outputId": "20e52d53-4ad2-4729-9b9c-0ed59c641375"
      },
      "execution_count": 41,
      "outputs": [
        {
          "output_type": "stream",
          "name": "stderr",
          "text": [
            "Copying files: 0 files [00:00, ? files/s]\n"
          ]
        }
      ]
    },
    {
      "cell_type": "markdown",
      "source": [
        "# **Split Data**"
      ],
      "metadata": {
        "id": "09GxUM9AIjVG"
      }
    },
    {
      "cell_type": "code",
      "source": [
        "import os\n",
        "\n",
        "base_dir = '/content/drive/MyDrive/Skripsi/Raw/data'\n",
        "\n",
        "train_dir = os.path.join(base_dir, 'train')\n",
        "os.chdir(base_dir)\n",
        "os.rename(\"val\",\"test\")\n",
        "test_dir = os.path.join(base_dir, 'test')\n",
        "\n",
        "train = '/content/drive/MyDrive/Skripsi/Raw/data/train'\n",
        "test = '/content/drive/MyDrive/Skripsi/Raw/data/val'\n",
        "\n",
        "print('total train :', len(train))\n",
        "print('total test :', len(test))"
      ],
      "metadata": {
        "id": "w948JUdbIlq9",
        "colab": {
          "base_uri": "https://localhost:8080/"
        },
        "outputId": "a19fc546-1150-45b4-825e-0d4fb68ffa45"
      },
      "execution_count": 43,
      "outputs": [
        {
          "output_type": "stream",
          "name": "stdout",
          "text": [
            "total train : 45\n",
            "total test : 43\n"
          ]
        }
      ]
    }
  ]
}