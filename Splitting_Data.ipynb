{
  "nbformat": 4,
  "nbformat_minor": 0,
  "metadata": {
    "colab": {
      "provenance": [],
      "mount_file_id": "1N5gifVr7Ihe1Uq09ESjx3dAR6QNjUDzZ",
      "authorship_tag": "ABX9TyNH6s5zHxH8sT+F/36Ic1Ep",
      "include_colab_link": true
    },
    "kernelspec": {
      "name": "python3",
      "display_name": "Python 3"
    },
    "language_info": {
      "name": "python"
    }
  },
  "cells": [
    {
      "cell_type": "markdown",
      "metadata": {
        "id": "view-in-github",
        "colab_type": "text"
      },
      "source": [
        "<a href=\"https://colab.research.google.com/github/krishalvian/Pancreatic-Mass-Segmentation/blob/main/Splitting_Data.ipynb\" target=\"_parent\"><img src=\"https://colab.research.google.com/assets/colab-badge.svg\" alt=\"Open In Colab\"/></a>"
      ]
    },
    {
      "cell_type": "markdown",
      "source": [
        "# **Splitting Data**"
      ],
      "metadata": {
        "id": "Tebb0KEJGD9f"
      }
    },
    {
      "cell_type": "markdown",
      "source": [
        "Splitting data digunakan untuk memisahkan antara data *training* dan data *testing*."
      ],
      "metadata": {
        "id": "0szuehpbGMTU"
      }
    },
    {
      "cell_type": "markdown",
      "source": [
        "# **Import Data**"
      ],
      "metadata": {
        "id": "nDyHBrkdGk6l"
      }
    },
    {
      "cell_type": "markdown",
      "source": [
        "Menginstal library dan modul yang akan digunakan"
      ],
      "metadata": {
        "id": "e3YE64XQGs8u"
      }
    },
    {
      "cell_type": "code",
      "execution_count": 8,
      "metadata": {
        "id": "zAy84zDc0UEl"
      },
      "outputs": [],
      "source": [
        "!pip install -q split-folders"
      ]
    },
    {
      "cell_type": "markdown",
      "source": [
        "Menghubungkan Google Drive dengan Google Colab"
      ],
      "metadata": {
        "id": "hMGt5T89G_ib"
      }
    },
    {
      "cell_type": "code",
      "source": [
        "from google.colab import drive\n",
        "drive.mount('/content/drive')"
      ],
      "metadata": {
        "colab": {
          "base_uri": "https://localhost:8080/"
        },
        "id": "ft4KH5zDHOtj",
        "outputId": "d8cade02-f04b-4b35-d742-f2ab8dc7ca86"
      },
      "execution_count": 9,
      "outputs": [
        {
          "output_type": "stream",
          "name": "stdout",
          "text": [
            "Drive already mounted at /content/drive; to attempt to forcibly remount, call drive.mount(\"/content/drive\", force_remount=True).\n"
          ]
        }
      ]
    },
    {
      "cell_type": "markdown",
      "source": [
        "# **Import Data from Drive**"
      ],
      "metadata": {
        "id": "gEw4vc_7Hgh5"
      }
    },
    {
      "cell_type": "markdown",
      "source": [
        "Mengakses dataset dari Google Drive"
      ],
      "metadata": {
        "id": "ReSbE0fOHsfA"
      }
    },
    {
      "cell_type": "code",
      "source": [
        "dataset = \"/content/drive/MyDrive/Dataset\""
      ],
      "metadata": {
        "id": "ip3faBQtHwCF"
      },
      "execution_count": 10,
      "outputs": []
    },
    {
      "cell_type": "markdown",
      "source": [
        "Melakukan pembagian data dengan ratio 80% (training) dan 20% (testing)"
      ],
      "metadata": {
        "id": "wR3ec62qH16H"
      }
    },
    {
      "cell_type": "code",
      "source": [
        "#Import package split-folder\n",
        "import splitfolders\n",
        "\n",
        "#Membagi data\n",
        "\n",
        "splitfolders.ratio(dataset,\n",
        "                    output = \"/content/drive/MyDrive/Dataset/Raw/Data\",\n",
        "                    seed = 1337,\n",
        "                    ratio = (.8, .2),\n",
        "                    group_prefix = None, move = False)"
      ],
      "metadata": {
        "id": "ZQeMHaB9IBU9",
        "colab": {
          "base_uri": "https://localhost:8080/"
        },
        "outputId": "67164976-9c64-46e6-c804-42c1786624e1"
      },
      "execution_count": 11,
      "outputs": [
        {
          "output_type": "stream",
          "name": "stderr",
          "text": [
            "Copying files: 579 files [00:25, 22.34 files/s]\n"
          ]
        }
      ]
    },
    {
      "cell_type": "markdown",
      "source": [
        "# **Split Data**"
      ],
      "metadata": {
        "id": "09GxUM9AIjVG"
      }
    },
    {
      "cell_type": "code",
      "source": [
        "import os\n",
        "\n",
        "base_dir = '/content/drive/MyDrive/Dataset/Raw/Data'\n",
        "\n",
        "train_dir = os.path.join(base_dir, 'train')\n",
        "os.chdir(base_dir)\n",
        "\n",
        "test_dir = os.path.join(base_dir, 'test')\n",
        "\n",
        "train_data = '/content/drive/MyDrive/Dataset/Raw/Data/train/Raw'\n",
        "test_data = '/content/drive/MyDrive/Dataset/Raw/Data/test/Raw'\n",
        "\n",
        "print('total citra train:', len(os.listdir(train_data)))\n",
        "print('total citra test:', len(os.listdir(test_data)))"
      ],
      "metadata": {
        "id": "w948JUdbIlq9",
        "colab": {
          "base_uri": "https://localhost:8080/"
        },
        "outputId": "274d0b7a-377b-4130-f094-90dbe566cce5"
      },
      "execution_count": 18,
      "outputs": [
        {
          "output_type": "stream",
          "name": "stdout",
          "text": [
            "total citra train: 463\n",
            "total citra test: 116\n"
          ]
        }
      ]
    }
  ]
}