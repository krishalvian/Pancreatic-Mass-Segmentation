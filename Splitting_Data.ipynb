{
  "nbformat": 4,
  "nbformat_minor": 0,
  "metadata": {
    "colab": {
      "provenance": [],
      "gpuType": "T4",
      "mount_file_id": "1N5gifVr7Ihe1Uq09ESjx3dAR6QNjUDzZ",
      "authorship_tag": "ABX9TyOkciEI4cwozjEvsY3DQ3aL"
    },
    "kernelspec": {
      "name": "python3",
      "display_name": "Python 3"
    },
    "language_info": {
      "name": "python"
    },
    "accelerator": "GPU"
  },
  "cells": [
    {
      "cell_type": "markdown",
      "source": [
        "# **Splitting Data**"
      ],
      "metadata": {
        "id": "Tebb0KEJGD9f"
      }
    },
    {
      "cell_type": "markdown",
      "source": [
        "Splitting data digunakan untuk memisahkan antara data *training* dan data *testing*."
      ],
      "metadata": {
        "id": "0szuehpbGMTU"
      }
    },
    {
      "cell_type": "markdown",
      "source": [
        "### **Import Data, Library, dan Module**"
      ],
      "metadata": {
        "id": "nDyHBrkdGk6l"
      }
    },
    {
      "cell_type": "markdown",
      "source": [
        "Menghubungkan Google Drive dengan Google Colab"
      ],
      "metadata": {
        "id": "hMGt5T89G_ib"
      }
    },
    {
      "cell_type": "code",
      "source": [
        "from google.colab import drive\n",
        "drive.mount('/content/drive')"
      ],
      "metadata": {
        "colab": {
          "base_uri": "https://localhost:8080/"
        },
        "id": "ft4KH5zDHOtj",
        "outputId": "7191944e-9935-4d74-cee4-ffcb53537e18"
      },
      "execution_count": 1,
      "outputs": [
        {
          "output_type": "stream",
          "name": "stdout",
          "text": [
            "Mounted at /content/drive\n"
          ]
        }
      ]
    },
    {
      "cell_type": "code",
      "source": [
        "import os\n",
        "import shutil\n",
        "from sklearn.model_selection import train_test_split"
      ],
      "metadata": {
        "id": "yT7QFFGlPLcq"
      },
      "execution_count": 2,
      "outputs": []
    },
    {
      "cell_type": "markdown",
      "source": [
        "Mengakses dataset dari Google Drive"
      ],
      "metadata": {
        "id": "ReSbE0fOHsfA"
      }
    },
    {
      "cell_type": "code",
      "source": [
        "image_dir = '/content/drive/MyDrive/Skripsi/Final/Raw'\n",
        "mask_dir = '/content/drive/MyDrive/Skripsi/Final/Mask'\n",
        "output_dir = '/content/drive/MyDrive/Skripsi/Final/Split'\n",
        "\n",
        "os.makedirs(output_dir, exist_ok=True)"
      ],
      "metadata": {
        "id": "ip3faBQtHwCF"
      },
      "execution_count": 3,
      "outputs": []
    },
    {
      "cell_type": "code",
      "source": [
        "# Dapatkan file yang cocok (nama sama di images & masks)\n",
        "image_files = sorted([f for f in os.listdir(image_dir) if f.endswith(('.jpg'))])\n",
        "mask_files = sorted([f for f in os.listdir(mask_dir) if f in image_files])\n",
        "\n",
        "# Filter hanya pasangan file yang valid\n",
        "matched_files = [(img, img) for img in image_files if img in mask_files]"
      ],
      "metadata": {
        "id": "lGzWFLGGPR92"
      },
      "execution_count": 4,
      "outputs": []
    },
    {
      "cell_type": "markdown",
      "source": [
        "### **Splitting Data**"
      ],
      "metadata": {
        "id": "hWcKxLSKPdCK"
      }
    },
    {
      "cell_type": "markdown",
      "source": [
        "Melakukan pembagian data dengan ratio 80% (training) dan 20% (testing)"
      ],
      "metadata": {
        "id": "wR3ec62qH16H"
      }
    },
    {
      "cell_type": "code",
      "source": [
        "# Split 70% data training, 20% data testing, dan 10% data validation\n",
        "train_val_pairs, test_pairs = train_test_split(matched_files, test_size=0.2, random_state=42)\n",
        "train_pairs, val_pairs = train_test_split(train_val_pairs, test_size=0.125, random_state=42)\n",
        "\n",
        "def copy_files(pairs, split):\n",
        "    img_out = os.path.join(output_dir, 'Images', split)\n",
        "    mask_out = os.path.join(output_dir, 'Labels', split)\n",
        "    os.makedirs(img_out, exist_ok=True)\n",
        "    os.makedirs(mask_out, exist_ok=True)\n",
        "\n",
        "    for img_file, mask_file in pairs:\n",
        "        shutil.copy(os.path.join(image_dir, img_file), os.path.join(img_out, img_file))\n",
        "        shutil.copy(os.path.join(mask_dir, mask_file), os.path.join(mask_out, mask_file))\n",
        "\n",
        "copy_files(train_pairs, 'Train')\n",
        "copy_files(val_pairs, 'Val')\n",
        "copy_files(test_pairs, 'Test')"
      ],
      "metadata": {
        "id": "ZQeMHaB9IBU9"
      },
      "execution_count": 5,
      "outputs": []
    },
    {
      "cell_type": "code",
      "source": [
        "print(f\"Total data: {len(matched_files)}\")\n",
        "print(f\"Train: {len(train_pairs)}\")\n",
        "print(f\"Val: {len(val_pairs)}\")\n",
        "print(f\"Test: {len(test_pairs)}\")\n",
        "print(\"Data splitting selesai!\")"
      ],
      "metadata": {
        "id": "w948JUdbIlq9",
        "colab": {
          "base_uri": "https://localhost:8080/"
        },
        "outputId": "54a90f5c-342a-4c78-a436-aa0d05aac753"
      },
      "execution_count": 7,
      "outputs": [
        {
          "output_type": "stream",
          "name": "stdout",
          "text": [
            "Total data: 1690\n",
            "Train: 1183\n",
            "Val: 169\n",
            "Test: 338\n",
            "Data splitting selesai!\n"
          ]
        }
      ]
    },
    {
      "cell_type": "markdown",
      "source": [
        "Dari data sebanyak 1690 citra, didapatkan citra untuk training sebanyak 1183 citra, citra untuk testing sebanyak 338 citra, dan citra untuk validasi sebanyak 169 citra"
      ],
      "metadata": {
        "id": "smR8wpkNbmib"
      }
    }
  ]
}