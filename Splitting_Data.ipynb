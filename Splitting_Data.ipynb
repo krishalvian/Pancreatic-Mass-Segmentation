{
  "nbformat": 4,
  "nbformat_minor": 0,
  "metadata": {
    "colab": {
      "provenance": [],
      "mount_file_id": "1N5gifVr7Ihe1Uq09ESjx3dAR6QNjUDzZ",
      "authorship_tag": "ABX9TyNBtzKdsmCIL18CkjtnVWIA",
      "include_colab_link": true
    },
    "kernelspec": {
      "name": "python3",
      "display_name": "Python 3"
    },
    "language_info": {
      "name": "python"
    }
  },
  "cells": [
    {
      "cell_type": "markdown",
      "metadata": {
        "id": "view-in-github",
        "colab_type": "text"
      },
      "source": [
        "<a href=\"https://colab.research.google.com/github/krishalvian/Pancreatic-Mass-Segmentation/blob/main/Splitting_Data.ipynb\" target=\"_parent\"><img src=\"https://colab.research.google.com/assets/colab-badge.svg\" alt=\"Open In Colab\"/></a>"
      ]
    },
    {
      "cell_type": "markdown",
      "source": [
        "# **Splitting Data**"
      ],
      "metadata": {
        "id": "Tebb0KEJGD9f"
      }
    },
    {
      "cell_type": "markdown",
      "source": [
        "Splitting data digunakan untuk memisahkan antara data *training* dan data *testing*."
      ],
      "metadata": {
        "id": "0szuehpbGMTU"
      }
    },
    {
      "cell_type": "markdown",
      "source": [
        "# **Import Data**"
      ],
      "metadata": {
        "id": "nDyHBrkdGk6l"
      }
    },
    {
      "cell_type": "markdown",
      "source": [
        "Menginstal library dan modul yang akan digunakan"
      ],
      "metadata": {
        "id": "e3YE64XQGs8u"
      }
    },
    {
      "cell_type": "code",
      "execution_count": null,
      "metadata": {
        "id": "zAy84zDc0UEl"
      },
      "outputs": [],
      "source": [
        "!pip install -q split-folder"
      ]
    },
    {
      "cell_type": "markdown",
      "source": [
        "Menghubungkan Google Drive dengan Google Colab"
      ],
      "metadata": {
        "id": "hMGt5T89G_ib"
      }
    },
    {
      "cell_type": "code",
      "source": [
        "from google.colab import drive\n",
        "drive.mount('/content/drive')"
      ],
      "metadata": {
        "colab": {
          "base_uri": "https://localhost:8080/"
        },
        "id": "ft4KH5zDHOtj",
        "outputId": "98988dfa-5dc4-4c23-c3d3-15cf1da77151"
      },
      "execution_count": null,
      "outputs": [
        {
          "output_type": "stream",
          "name": "stdout",
          "text": [
            "Drive already mounted at /content/drive; to attempt to forcibly remount, call drive.mount(\"/content/drive\", force_remount=True).\n"
          ]
        }
      ]
    },
    {
      "cell_type": "markdown",
      "source": [
        "# **Import Data from Drive**"
      ],
      "metadata": {
        "id": "gEw4vc_7Hgh5"
      }
    },
    {
      "cell_type": "markdown",
      "source": [
        "Mengakses dataset dari Google Drive"
      ],
      "metadata": {
        "id": "ReSbE0fOHsfA"
      }
    },
    {
      "cell_type": "code",
      "source": [
        "dataset = 'Input Path'"
      ],
      "metadata": {
        "id": "ip3faBQtHwCF"
      },
      "execution_count": null,
      "outputs": []
    },
    {
      "cell_type": "markdown",
      "source": [
        "Melakukan pembagian data dengan ratio 80% (training) dan 20% (testing)"
      ],
      "metadata": {
        "id": "wR3ec62qH16H"
      }
    },
    {
      "cell_type": "code",
      "source": [
        "#Import package split-folder\n",
        "import splitfolders\n",
        "\n",
        "#Membagi data\n",
        "\n",
        "splitfolders.ratio (dataset,\n",
        "                    output = 'Input Dataset'\n",
        "                    seed = 1337\n",
        "                    ratio = (.8, .2)\n",
        "                    group_prefix = None, move = False)"
      ],
      "metadata": {
        "id": "ZQeMHaB9IBU9"
      },
      "execution_count": null,
      "outputs": []
    },
    {
      "cell_type": "markdown",
      "source": [
        "# **Split Data**"
      ],
      "metadata": {
        "id": "09GxUM9AIjVG"
      }
    },
    {
      "cell_type": "code",
      "source": [
        "import os\n",
        "\n",
        "base_dir = 'Dataset Path'\n",
        "\n",
        "train_dir = os.path.join(base_dir, 'train')\n",
        "os.chdir(base_dir)\n"
      ],
      "metadata": {
        "id": "w948JUdbIlq9"
      },
      "execution_count": null,
      "outputs": []
    }
  ]
}