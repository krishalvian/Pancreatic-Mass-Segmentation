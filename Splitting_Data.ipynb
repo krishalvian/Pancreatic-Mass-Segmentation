{
  "nbformat": 4,
  "nbformat_minor": 0,
  "metadata": {
    "colab": {
      "provenance": [],
      "mount_file_id": "1N5gifVr7Ihe1Uq09ESjx3dAR6QNjUDzZ",
      "authorship_tag": "ABX9TyNQPP5AbSWa1G8K5h2P9gJx",
      "include_colab_link": true
    },
    "kernelspec": {
      "name": "python3",
      "display_name": "Python 3"
    },
    "language_info": {
      "name": "python"
    }
  },
  "cells": [
    {
      "cell_type": "markdown",
      "metadata": {
        "id": "view-in-github",
        "colab_type": "text"
      },
      "source": [
        "<a href=\"https://colab.research.google.com/github/krishalvian/Pancreatic-Mass-Segmentation/blob/main/Splitting_Data.ipynb\" target=\"_parent\"><img src=\"https://colab.research.google.com/assets/colab-badge.svg\" alt=\"Open In Colab\"/></a>"
      ]
    },
    {
      "cell_type": "markdown",
      "source": [
        "# **Splitting Data**"
      ],
      "metadata": {
        "id": "Tebb0KEJGD9f"
      }
    },
    {
      "cell_type": "markdown",
      "source": [
        "Splitting data digunakan untuk memisahkan antara data *training* dan data *testing*."
      ],
      "metadata": {
        "id": "0szuehpbGMTU"
      }
    },
    {
      "cell_type": "markdown",
      "source": [
        "# **Import Data**"
      ],
      "metadata": {
        "id": "nDyHBrkdGk6l"
      }
    },
    {
      "cell_type": "markdown",
      "source": [
        "Menginstal library dan modul yang akan digunakan"
      ],
      "metadata": {
        "id": "e3YE64XQGs8u"
      }
    },
    {
      "cell_type": "code",
      "execution_count": 6,
      "metadata": {
        "id": "zAy84zDc0UEl"
      },
      "outputs": [],
      "source": [
        "!pip install -q split-folders"
      ]
    },
    {
      "cell_type": "markdown",
      "source": [
        "Menghubungkan Google Drive dengan Google Colab"
      ],
      "metadata": {
        "id": "hMGt5T89G_ib"
      }
    },
    {
      "cell_type": "code",
      "source": [
        "from google.colab import drive\n",
        "drive.mount('/content/drive')"
      ],
      "metadata": {
        "colab": {
          "base_uri": "https://localhost:8080/"
        },
        "id": "ft4KH5zDHOtj",
        "outputId": "248a7a1a-61f5-4b92-d9e4-82596e61a309"
      },
      "execution_count": 7,
      "outputs": [
        {
          "output_type": "stream",
          "name": "stdout",
          "text": [
            "Drive already mounted at /content/drive; to attempt to forcibly remount, call drive.mount(\"/content/drive\", force_remount=True).\n"
          ]
        }
      ]
    },
    {
      "cell_type": "markdown",
      "source": [
        "# **Import Data from Drive**"
      ],
      "metadata": {
        "id": "gEw4vc_7Hgh5"
      }
    },
    {
      "cell_type": "markdown",
      "source": [
        "Mengakses dataset dari Google Drive"
      ],
      "metadata": {
        "id": "ReSbE0fOHsfA"
      }
    },
    {
      "cell_type": "code",
      "source": [
        "dataset = \"/content/drive/MyDrive/Dataset\""
      ],
      "metadata": {
        "id": "ip3faBQtHwCF"
      },
      "execution_count": 8,
      "outputs": []
    },
    {
      "cell_type": "markdown",
      "source": [
        "Melakukan pembagian data dengan ratio 80% (training) dan 20% (testing)"
      ],
      "metadata": {
        "id": "wR3ec62qH16H"
      }
    },
    {
      "cell_type": "code",
      "source": [
        "#Import package split-folder\n",
        "import splitfolders\n",
        "\n",
        "#Membagi data\n",
        "\n",
        "splitfolders.ratio(dataset,\n",
        "                    output = \"/content/drive/MyDrive/Dataset/Raw/Data\",\n",
        "                    seed = 1337,\n",
        "                    ratio = (.8, .2),\n",
        "                    group_prefix = None, move = False)"
      ],
      "metadata": {
        "id": "ZQeMHaB9IBU9",
        "colab": {
          "base_uri": "https://localhost:8080/"
        },
        "outputId": "ae94d83f-68de-420f-8a67-0d9a5f22689d"
      },
      "execution_count": 9,
      "outputs": [
        {
          "output_type": "stream",
          "name": "stderr",
          "text": [
            "Copying files: 428 files [00:15, 28.01 files/s]\n"
          ]
        }
      ]
    },
    {
      "cell_type": "markdown",
      "source": [
        "Terdapat 428 citra yang akan dipisahkan menjadi data *training* dan *testing*"
      ],
      "metadata": {
        "id": "bTAeUabFbe8b"
      }
    },
    {
      "cell_type": "markdown",
      "source": [
        "# **Split Data**"
      ],
      "metadata": {
        "id": "09GxUM9AIjVG"
      }
    },
    {
      "cell_type": "code",
      "source": [
        "import os\n",
        "\n",
        "base_dir = '/content/drive/MyDrive/Dataset/Raw/Data'\n",
        "\n",
        "train_dir = os.path.join(base_dir, 'train')\n",
        "os.chdir(base_dir)\n",
        "os.rename(\"val\",\"test\")\n",
        "test_dir = os.path.join(base_dir, 'test')\n",
        "\n",
        "train_data = '/content/drive/MyDrive/Dataset/Raw/Data/train/Raw'\n",
        "test_data = '/content/drive/MyDrive/Dataset/Raw/Data/test/Raw'\n",
        "\n",
        "print('total citra train:', len(os.listdir(train_data)))\n",
        "print('total citra test:', len(os.listdir(test_data)))"
      ],
      "metadata": {
        "id": "w948JUdbIlq9",
        "colab": {
          "base_uri": "https://localhost:8080/"
        },
        "outputId": "920f938a-0364-48a7-e880-9746bc7bc8e1"
      },
      "execution_count": 12,
      "outputs": [
        {
          "output_type": "stream",
          "name": "stdout",
          "text": [
            "total citra train: 342\n",
            "total citra test: 86\n"
          ]
        }
      ]
    },
    {
      "cell_type": "markdown",
      "source": [
        "Dari data yang sudah di split, didapatkan citra untuk training sebanyak 342 citra dan citra untuk testing sebanyak 86 citra"
      ],
      "metadata": {
        "id": "smR8wpkNbmib"
      }
    }
  ]
}