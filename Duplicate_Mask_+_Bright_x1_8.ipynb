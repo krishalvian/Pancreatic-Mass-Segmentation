{
  "nbformat": 4,
  "nbformat_minor": 0,
  "metadata": {
    "colab": {
      "provenance": [],
      "authorship_tag": "ABX9TyOHNcX0Obx7lpOczvtqOXnk"
    },
    "kernelspec": {
      "name": "python3",
      "display_name": "Python 3"
    },
    "language_info": {
      "name": "python"
    }
  },
  "cells": [
    {
      "cell_type": "code",
      "source": [
        "from google.colab import drive\n",
        "drive.mount('/content/drive')"
      ],
      "metadata": {
        "colab": {
          "base_uri": "https://localhost:8080/"
        },
        "id": "H8uKjlrCVlWu",
        "outputId": "b57e6544-5fbe-4162-fd34-1b6f1a96c7e0"
      },
      "execution_count": 1,
      "outputs": [
        {
          "output_type": "stream",
          "name": "stdout",
          "text": [
            "Mounted at /content/drive\n"
          ]
        }
      ]
    },
    {
      "cell_type": "code",
      "execution_count": 2,
      "metadata": {
        "id": "CT-i1vgXVVLm"
      },
      "outputs": [],
      "source": [
        "import os\n",
        "import shutil"
      ]
    },
    {
      "cell_type": "code",
      "source": [
        "input_folder = '/content/drive/MyDrive/Skripsi/Data/Mask/Mask_Hflip'\n",
        "output_folder = '/content/drive/MyDrive/Skripsi/Data/Mask/Mask_Hflip+1.8'\n",
        "\n",
        "os.makedirs(output_folder, exist_ok=True)"
      ],
      "metadata": {
        "id": "GzMkoNvkVXD6"
      },
      "execution_count": 5,
      "outputs": []
    },
    {
      "cell_type": "code",
      "source": [
        "for filename in os.listdir(input_folder):\n",
        "    if filename.lower().endswith(('.jpg')):\n",
        "        input_path = os.path.join(input_folder, filename)\n",
        "\n",
        "        name, ext = os.path.splitext(filename)\n",
        "        new_filename = f\"{name}_bright18.jpg\"\n",
        "\n",
        "        output_path = os.path.join(output_folder, new_filename)\n",
        "\n",
        "        shutil.copy2(input_path, output_path)\n",
        "        print(f\"Disalin: {filename} -> {new_filename}\")\n",
        "\n",
        "print(\"Semua citra berhasil diduplikasi.\")"
      ],
      "metadata": {
        "colab": {
          "base_uri": "https://localhost:8080/"
        },
        "id": "skLPA0zsVi1C",
        "outputId": "5ebced4d-f383-470c-e140-527787d41689"
      },
      "execution_count": 6,
      "outputs": [
        {
          "output_type": "stream",
          "name": "stdout",
          "text": [
            "Disalin: 1_hflip.jpg -> 1_hflip_bright18.jpg\n",
            "Disalin: 13_hflip.jpg -> 13_hflip_bright18.jpg\n",
            "Disalin: 14_hflip.jpg -> 14_hflip_bright18.jpg\n",
            "Disalin: 2_hflip.jpg -> 2_hflip_bright18.jpg\n",
            "Disalin: 5_hflip.jpg -> 5_hflip_bright18.jpg\n",
            "Disalin: 11_hflip.jpg -> 11_hflip_bright18.jpg\n",
            "Disalin: 19_hflip.jpg -> 19_hflip_bright18.jpg\n",
            "Disalin: 20_hflip.jpg -> 20_hflip_bright18.jpg\n",
            "Disalin: 17_hflip.jpg -> 17_hflip_bright18.jpg\n",
            "Disalin: 29_hflip.jpg -> 29_hflip_bright18.jpg\n",
            "Disalin: 24_hflip.jpg -> 24_hflip_bright18.jpg\n",
            "Disalin: 23_hflip.jpg -> 23_hflip_bright18.jpg\n",
            "Disalin: 26_hflip.jpg -> 26_hflip_bright18.jpg\n",
            "Disalin: 12_hflip.jpg -> 12_hflip_bright18.jpg\n",
            "Disalin: 21_hflip.jpg -> 21_hflip_bright18.jpg\n",
            "Disalin: 28_hflip.jpg -> 28_hflip_bright18.jpg\n",
            "Disalin: 16_hflip.jpg -> 16_hflip_bright18.jpg\n",
            "Disalin: 3_hflip.jpg -> 3_hflip_bright18.jpg\n",
            "Disalin: 4_hflip.jpg -> 4_hflip_bright18.jpg\n",
            "Disalin: 7_hflip.jpg -> 7_hflip_bright18.jpg\n",
            "Disalin: 6_hflip.jpg -> 6_hflip_bright18.jpg\n",
            "Disalin: 15_hflip.jpg -> 15_hflip_bright18.jpg\n",
            "Disalin: 10_hflip.jpg -> 10_hflip_bright18.jpg\n",
            "Disalin: 25_hflip.jpg -> 25_hflip_bright18.jpg\n",
            "Disalin: 27_hflip.jpg -> 27_hflip_bright18.jpg\n",
            "Disalin: 18_hflip.jpg -> 18_hflip_bright18.jpg\n",
            "Disalin: 70_hflip.jpg -> 70_hflip_bright18.jpg\n",
            "Disalin: 8_hflip.jpg -> 8_hflip_bright18.jpg\n",
            "Disalin: 22_hflip.jpg -> 22_hflip_bright18.jpg\n",
            "Disalin: 9_hflip.jpg -> 9_hflip_bright18.jpg\n",
            "Disalin: 50_hflip.jpg -> 50_hflip_bright18.jpg\n",
            "Disalin: 40_hflip.jpg -> 40_hflip_bright18.jpg\n",
            "Disalin: 107_hflip.jpg -> 107_hflip_bright18.jpg\n",
            "Disalin: 49_hflip.jpg -> 49_hflip_bright18.jpg\n",
            "Disalin: 131_hflip.jpg -> 131_hflip_bright18.jpg\n",
            "Disalin: 77_hflip.jpg -> 77_hflip_bright18.jpg\n",
            "Disalin: 126_hflip.jpg -> 126_hflip_bright18.jpg\n",
            "Disalin: 37_hflip.jpg -> 37_hflip_bright18.jpg\n",
            "Disalin: 130_hflip.jpg -> 130_hflip_bright18.jpg\n",
            "Disalin: 122_hflip.jpg -> 122_hflip_bright18.jpg\n",
            "Disalin: 30_hflip.jpg -> 30_hflip_bright18.jpg\n",
            "Disalin: 98_hflip.jpg -> 98_hflip_bright18.jpg\n",
            "Disalin: 75_hflip.jpg -> 75_hflip_bright18.jpg\n",
            "Disalin: 76_hflip.jpg -> 76_hflip_bright18.jpg\n",
            "Disalin: 113_hflip.jpg -> 113_hflip_bright18.jpg\n",
            "Disalin: 65_hflip.jpg -> 65_hflip_bright18.jpg\n",
            "Disalin: 105_hflip.jpg -> 105_hflip_bright18.jpg\n",
            "Disalin: 119_hflip.jpg -> 119_hflip_bright18.jpg\n",
            "Disalin: 32_hflip.jpg -> 32_hflip_bright18.jpg\n",
            "Disalin: 63_hflip.jpg -> 63_hflip_bright18.jpg\n",
            "Disalin: 112_hflip.jpg -> 112_hflip_bright18.jpg\n",
            "Disalin: 47_hflip.jpg -> 47_hflip_bright18.jpg\n",
            "Disalin: 92_hflip.jpg -> 92_hflip_bright18.jpg\n",
            "Disalin: 62_hflip.jpg -> 62_hflip_bright18.jpg\n",
            "Disalin: 115_hflip.jpg -> 115_hflip_bright18.jpg\n",
            "Disalin: 53_hflip.jpg -> 53_hflip_bright18.jpg\n",
            "Disalin: 123_hflip.jpg -> 123_hflip_bright18.jpg\n",
            "Disalin: 71_hflip.jpg -> 71_hflip_bright18.jpg\n",
            "Disalin: 85_hflip.jpg -> 85_hflip_bright18.jpg\n",
            "Disalin: 69_hflip.jpg -> 69_hflip_bright18.jpg\n",
            "Disalin: 60_hflip.jpg -> 60_hflip_bright18.jpg\n",
            "Disalin: 102_hflip.jpg -> 102_hflip_bright18.jpg\n",
            "Disalin: 57_hflip.jpg -> 57_hflip_bright18.jpg\n",
            "Disalin: 111_hflip.jpg -> 111_hflip_bright18.jpg\n",
            "Disalin: 67_hflip.jpg -> 67_hflip_bright18.jpg\n",
            "Disalin: 116_hflip.jpg -> 116_hflip_bright18.jpg\n",
            "Disalin: 73_hflip.jpg -> 73_hflip_bright18.jpg\n",
            "Disalin: 86_hflip.jpg -> 86_hflip_bright18.jpg\n",
            "Disalin: 91_hflip.jpg -> 91_hflip_bright18.jpg\n",
            "Disalin: 127_hflip.jpg -> 127_hflip_bright18.jpg\n",
            "Disalin: 82_hflip.jpg -> 82_hflip_bright18.jpg\n",
            "Disalin: 103_hflip.jpg -> 103_hflip_bright18.jpg\n",
            "Disalin: 51_hflip.jpg -> 51_hflip_bright18.jpg\n",
            "Disalin: 55_hflip.jpg -> 55_hflip_bright18.jpg\n",
            "Disalin: 41_hflip.jpg -> 41_hflip_bright18.jpg\n",
            "Disalin: 93_hflip.jpg -> 93_hflip_bright18.jpg\n",
            "Disalin: 94_hflip.jpg -> 94_hflip_bright18.jpg\n",
            "Disalin: 110_hflip.jpg -> 110_hflip_bright18.jpg\n",
            "Disalin: 35_hflip.jpg -> 35_hflip_bright18.jpg\n",
            "Disalin: 72_hflip.jpg -> 72_hflip_bright18.jpg\n",
            "Disalin: 109_hflip.jpg -> 109_hflip_bright18.jpg\n",
            "Disalin: 58_hflip.jpg -> 58_hflip_bright18.jpg\n",
            "Disalin: 124_hflip.jpg -> 124_hflip_bright18.jpg\n",
            "Disalin: 59_hflip.jpg -> 59_hflip_bright18.jpg\n",
            "Disalin: 44_hflip.jpg -> 44_hflip_bright18.jpg\n",
            "Disalin: 36_hflip.jpg -> 36_hflip_bright18.jpg\n",
            "Disalin: 81_hflip.jpg -> 81_hflip_bright18.jpg\n",
            "Disalin: 56_hflip.jpg -> 56_hflip_bright18.jpg\n",
            "Disalin: 90_hflip.jpg -> 90_hflip_bright18.jpg\n",
            "Disalin: 33_hflip.jpg -> 33_hflip_bright18.jpg\n",
            "Disalin: 108_hflip.jpg -> 108_hflip_bright18.jpg\n",
            "Disalin: 48_hflip.jpg -> 48_hflip_bright18.jpg\n",
            "Disalin: 46_hflip.jpg -> 46_hflip_bright18.jpg\n",
            "Disalin: 68_hflip.jpg -> 68_hflip_bright18.jpg\n",
            "Disalin: 129_hflip.jpg -> 129_hflip_bright18.jpg\n",
            "Disalin: 99_hflip.jpg -> 99_hflip_bright18.jpg\n",
            "Disalin: 42_hflip.jpg -> 42_hflip_bright18.jpg\n",
            "Disalin: 54_hflip.jpg -> 54_hflip_bright18.jpg\n",
            "Disalin: 45_hflip.jpg -> 45_hflip_bright18.jpg\n",
            "Disalin: 97_hflip.jpg -> 97_hflip_bright18.jpg\n",
            "Disalin: 74_hflip.jpg -> 74_hflip_bright18.jpg\n",
            "Disalin: 43_hflip.jpg -> 43_hflip_bright18.jpg\n",
            "Disalin: 128_hflip.jpg -> 128_hflip_bright18.jpg\n",
            "Disalin: 100_hflip.jpg -> 100_hflip_bright18.jpg\n",
            "Disalin: 120_hflip.jpg -> 120_hflip_bright18.jpg\n",
            "Disalin: 114_hflip.jpg -> 114_hflip_bright18.jpg\n",
            "Disalin: 104_hflip.jpg -> 104_hflip_bright18.jpg\n",
            "Disalin: 87_hflip.jpg -> 87_hflip_bright18.jpg\n",
            "Disalin: 117_hflip.jpg -> 117_hflip_bright18.jpg\n",
            "Disalin: 83_hflip.jpg -> 83_hflip_bright18.jpg\n",
            "Disalin: 34_hflip.jpg -> 34_hflip_bright18.jpg\n",
            "Disalin: 61_hflip.jpg -> 61_hflip_bright18.jpg\n",
            "Disalin: 96_hflip.jpg -> 96_hflip_bright18.jpg\n",
            "Disalin: 84_hflip.jpg -> 84_hflip_bright18.jpg\n",
            "Disalin: 64_hflip.jpg -> 64_hflip_bright18.jpg\n",
            "Disalin: 118_hflip.jpg -> 118_hflip_bright18.jpg\n",
            "Disalin: 38_hflip.jpg -> 38_hflip_bright18.jpg\n",
            "Disalin: 106_hflip.jpg -> 106_hflip_bright18.jpg\n",
            "Disalin: 88_hflip.jpg -> 88_hflip_bright18.jpg\n",
            "Disalin: 121_hflip.jpg -> 121_hflip_bright18.jpg\n",
            "Disalin: 52_hflip.jpg -> 52_hflip_bright18.jpg\n",
            "Disalin: 66_hflip.jpg -> 66_hflip_bright18.jpg\n",
            "Disalin: 80_hflip.jpg -> 80_hflip_bright18.jpg\n",
            "Disalin: 101_hflip.jpg -> 101_hflip_bright18.jpg\n",
            "Disalin: 78_hflip.jpg -> 78_hflip_bright18.jpg\n",
            "Disalin: 95_hflip.jpg -> 95_hflip_bright18.jpg\n",
            "Disalin: 31_hflip.jpg -> 31_hflip_bright18.jpg\n",
            "Disalin: 39_hflip.jpg -> 39_hflip_bright18.jpg\n",
            "Disalin: 79_hflip.jpg -> 79_hflip_bright18.jpg\n",
            "Disalin: 125_hflip.jpg -> 125_hflip_bright18.jpg\n",
            "Disalin: 89_hflip.jpg -> 89_hflip_bright18.jpg\n",
            "Semua citra berhasil diduplikasi.\n"
          ]
        }
      ]
    }
  ]
}